{
 "cells": [
  {
   "cell_type": "code",
   "execution_count": null,
   "id": "d972cb0d",
   "metadata": {},
   "outputs": [],
   "source": [
    "pd.set_option('display.max_rows', None)"
   ]
  },
  {
   "cell_type": "code",
   "execution_count": 29,
   "id": "9b881d1c",
   "metadata": {
    "scrolled": true
   },
   "outputs": [
    {
     "name": "stdout",
     "output_type": "stream",
     "text": [
      "<class 'pandas.core.frame.DataFrame'>\n",
      "Int64Index: 31272 entries, 0 to 31290\n",
      "Data columns (total 38 columns):\n",
      " #   Column           Non-Null Count  Dtype  \n",
      "---  ------           --------------  -----  \n",
      " 0   TimeStamp        31272 non-null  object \n",
      " 1   Delta_TP9        31272 non-null  float64\n",
      " 2   Delta_AF7        31272 non-null  float64\n",
      " 3   Delta_AF8        31272 non-null  float64\n",
      " 4   Delta_TP10       31272 non-null  float64\n",
      " 5   Theta_TP9        31272 non-null  float64\n",
      " 6   Theta_AF7        31272 non-null  float64\n",
      " 7   Theta_AF8        31272 non-null  float64\n",
      " 8   Theta_TP10       31272 non-null  float64\n",
      " 9   Alpha_TP9        31272 non-null  float64\n",
      " 10  Alpha_AF7        31272 non-null  float64\n",
      " 11  Alpha_AF8        31272 non-null  float64\n",
      " 12  Alpha_TP10       31272 non-null  float64\n",
      " 13  Beta_TP9         31272 non-null  float64\n",
      " 14  Beta_AF7         31272 non-null  float64\n",
      " 15  Beta_AF8         31272 non-null  float64\n",
      " 16  Beta_TP10        31272 non-null  float64\n",
      " 17  Gamma_TP9        31272 non-null  float64\n",
      " 18  Gamma_AF7        31272 non-null  float64\n",
      " 19  Gamma_AF8        31272 non-null  float64\n",
      " 20  Gamma_TP10       31272 non-null  float64\n",
      " 21  RAW_TP9          31272 non-null  float64\n",
      " 22  RAW_AF7          31272 non-null  float64\n",
      " 23  RAW_AF8          31272 non-null  float64\n",
      " 24  RAW_TP10         31272 non-null  float64\n",
      " 25  AUX_RIGHT        31272 non-null  float64\n",
      " 26  Accelerometer_X  31272 non-null  float64\n",
      " 27  Accelerometer_Y  31272 non-null  float64\n",
      " 28  Accelerometer_Z  31272 non-null  float64\n",
      " 29  Gyro_X           31272 non-null  float64\n",
      " 30  Gyro_Y           31272 non-null  float64\n",
      " 31  Gyro_Z           31272 non-null  float64\n",
      " 32  HeadBandOn       31272 non-null  float64\n",
      " 33  HSI_TP9          31272 non-null  float64\n",
      " 34  HSI_AF7          31272 non-null  float64\n",
      " 35  HSI_AF8          31272 non-null  float64\n",
      " 36  HSI_TP10         31272 non-null  float64\n",
      " 37  Battery          31272 non-null  float64\n",
      "dtypes: float64(37), object(1)\n",
      "memory usage: 9.3+ MB\n"
     ]
    },
    {
     "data": {
      "text/plain": [
       "TimeStamp          0\n",
       "Delta_TP9          0\n",
       "Delta_AF7          0\n",
       "Delta_AF8          0\n",
       "Delta_TP10         0\n",
       "Theta_TP9          0\n",
       "Theta_AF7          0\n",
       "Theta_AF8          0\n",
       "Theta_TP10         0\n",
       "Alpha_TP9          0\n",
       "Alpha_AF7          0\n",
       "Alpha_AF8          0\n",
       "Alpha_TP10         0\n",
       "Beta_TP9           0\n",
       "Beta_AF7           0\n",
       "Beta_AF8           0\n",
       "Beta_TP10          0\n",
       "Gamma_TP9          0\n",
       "Gamma_AF7          0\n",
       "Gamma_AF8          0\n",
       "Gamma_TP10         0\n",
       "RAW_TP9            0\n",
       "RAW_AF7            0\n",
       "RAW_AF8            0\n",
       "RAW_TP10           0\n",
       "AUX_RIGHT          0\n",
       "Accelerometer_X    0\n",
       "Accelerometer_Y    0\n",
       "Accelerometer_Z    0\n",
       "Gyro_X             0\n",
       "Gyro_Y             0\n",
       "Gyro_Z             0\n",
       "HeadBandOn         0\n",
       "HSI_TP9            0\n",
       "HSI_AF7            0\n",
       "HSI_AF8            0\n",
       "HSI_TP10           0\n",
       "Battery            0\n",
       "dtype: int64"
      ]
     },
     "execution_count": 29,
     "metadata": {},
     "output_type": "execute_result"
    }
   ],
   "source": [
    "import pandas as pd\n",
    "from datetime import datetime\n",
    " \n",
    "df_data1 = pd.read_table('./dataset/data2.csv',sep=',') # 여기 들어가는 데이터는 muse에서 바로 뽑은 데이터\n",
    "df_data1 = df_data1.drop('Elements', axis=1) # Elements 컬럼 drop\n",
    "df_data1= df_data1.dropna(axis=0) # 결측치 있는 행 drop\n",
    "df_data1.info()\n",
    "df_data1.isnull().sum() # 결측치 없는거 확인하기"
   ]
  },
  {
   "cell_type": "code",
   "execution_count": 37,
   "id": "0e48f00f",
   "metadata": {},
   "outputs": [],
   "source": [
    "# 필요한 열 골라서 dataframe으로 만들기.\n",
    "data = df_data1[df_data1.columns[[0,2,6,10,14,18]]]"
   ]
  },
  {
   "cell_type": "code",
   "execution_count": 40,
   "id": "b669bff1",
   "metadata": {
    "scrolled": true
   },
   "outputs": [
    {
     "name": "stderr",
     "output_type": "stream",
     "text": [
      "C:\\Users\\hhz20\\AppData\\Local\\Temp/ipykernel_12748/2813471243.py:1: SettingWithCopyWarning: \n",
      "A value is trying to be set on a copy of a slice from a DataFrame.\n",
      "Try using .loc[row_indexer,col_indexer] = value instead\n",
      "\n",
      "See the caveats in the documentation: https://pandas.pydata.org/pandas-docs/stable/user_guide/indexing.html#returning-a-view-versus-a-copy\n",
      "  data['stimulus'] = 0\n"
     ]
    }
   ],
   "source": [
    "data['stimulus'] = 0"
   ]
  },
  {
   "cell_type": "code",
   "execution_count": 41,
   "id": "09478329",
   "metadata": {},
   "outputs": [
    {
     "data": {
      "text/html": [
       "<div>\n",
       "<style scoped>\n",
       "    .dataframe tbody tr th:only-of-type {\n",
       "        vertical-align: middle;\n",
       "    }\n",
       "\n",
       "    .dataframe tbody tr th {\n",
       "        vertical-align: top;\n",
       "    }\n",
       "\n",
       "    .dataframe thead th {\n",
       "        text-align: right;\n",
       "    }\n",
       "</style>\n",
       "<table border=\"1\" class=\"dataframe\">\n",
       "  <thead>\n",
       "    <tr style=\"text-align: right;\">\n",
       "      <th></th>\n",
       "      <th>TimeStamp</th>\n",
       "      <th>Delta_AF7</th>\n",
       "      <th>Theta_AF7</th>\n",
       "      <th>Alpha_AF7</th>\n",
       "      <th>Beta_AF7</th>\n",
       "      <th>Gamma_AF7</th>\n",
       "      <th>stimulus</th>\n",
       "    </tr>\n",
       "  </thead>\n",
       "  <tbody>\n",
       "    <tr>\n",
       "      <th>0</th>\n",
       "      <td>2022-07-05 14:03:30.972</td>\n",
       "      <td>0.787475</td>\n",
       "      <td>0.355094</td>\n",
       "      <td>0.662357</td>\n",
       "      <td>1.185562</td>\n",
       "      <td>0.850897</td>\n",
       "      <td>0</td>\n",
       "    </tr>\n",
       "    <tr>\n",
       "      <th>1</th>\n",
       "      <td>2022-07-05 14:03:30.973</td>\n",
       "      <td>0.787475</td>\n",
       "      <td>0.355094</td>\n",
       "      <td>0.662357</td>\n",
       "      <td>1.185562</td>\n",
       "      <td>0.850897</td>\n",
       "      <td>0</td>\n",
       "    </tr>\n",
       "    <tr>\n",
       "      <th>2</th>\n",
       "      <td>2022-07-05 14:03:30.973</td>\n",
       "      <td>0.787475</td>\n",
       "      <td>0.355094</td>\n",
       "      <td>0.662357</td>\n",
       "      <td>1.185562</td>\n",
       "      <td>0.850897</td>\n",
       "      <td>0</td>\n",
       "    </tr>\n",
       "    <tr>\n",
       "      <th>3</th>\n",
       "      <td>2022-07-05 14:03:30.974</td>\n",
       "      <td>0.787475</td>\n",
       "      <td>0.355094</td>\n",
       "      <td>0.662357</td>\n",
       "      <td>1.185562</td>\n",
       "      <td>0.850897</td>\n",
       "      <td>0</td>\n",
       "    </tr>\n",
       "    <tr>\n",
       "      <th>4</th>\n",
       "      <td>2022-07-05 14:03:30.974</td>\n",
       "      <td>0.787475</td>\n",
       "      <td>0.355094</td>\n",
       "      <td>0.662357</td>\n",
       "      <td>1.185562</td>\n",
       "      <td>0.850897</td>\n",
       "      <td>0</td>\n",
       "    </tr>\n",
       "    <tr>\n",
       "      <th>...</th>\n",
       "      <td>...</td>\n",
       "      <td>...</td>\n",
       "      <td>...</td>\n",
       "      <td>...</td>\n",
       "      <td>...</td>\n",
       "      <td>...</td>\n",
       "      <td>...</td>\n",
       "    </tr>\n",
       "    <tr>\n",
       "      <th>31286</th>\n",
       "      <td>2022-07-05 14:05:33.036</td>\n",
       "      <td>0.590314</td>\n",
       "      <td>0.417819</td>\n",
       "      <td>0.668900</td>\n",
       "      <td>0.957642</td>\n",
       "      <td>0.858311</td>\n",
       "      <td>0</td>\n",
       "    </tr>\n",
       "    <tr>\n",
       "      <th>31287</th>\n",
       "      <td>2022-07-05 14:05:33.036</td>\n",
       "      <td>0.590314</td>\n",
       "      <td>0.417819</td>\n",
       "      <td>0.668900</td>\n",
       "      <td>0.957642</td>\n",
       "      <td>0.858311</td>\n",
       "      <td>0</td>\n",
       "    </tr>\n",
       "    <tr>\n",
       "      <th>31288</th>\n",
       "      <td>2022-07-05 14:05:33.036</td>\n",
       "      <td>0.590314</td>\n",
       "      <td>0.417819</td>\n",
       "      <td>0.668900</td>\n",
       "      <td>0.957642</td>\n",
       "      <td>0.858311</td>\n",
       "      <td>0</td>\n",
       "    </tr>\n",
       "    <tr>\n",
       "      <th>31289</th>\n",
       "      <td>2022-07-05 14:05:33.037</td>\n",
       "      <td>0.590314</td>\n",
       "      <td>0.417819</td>\n",
       "      <td>0.668900</td>\n",
       "      <td>0.957642</td>\n",
       "      <td>0.858311</td>\n",
       "      <td>0</td>\n",
       "    </tr>\n",
       "    <tr>\n",
       "      <th>31290</th>\n",
       "      <td>2022-07-05 14:05:33.037</td>\n",
       "      <td>0.590314</td>\n",
       "      <td>0.417819</td>\n",
       "      <td>0.668900</td>\n",
       "      <td>0.957642</td>\n",
       "      <td>0.858311</td>\n",
       "      <td>0</td>\n",
       "    </tr>\n",
       "  </tbody>\n",
       "</table>\n",
       "<p>31272 rows × 7 columns</p>\n",
       "</div>"
      ],
      "text/plain": [
       "                     TimeStamp  Delta_AF7  Theta_AF7  Alpha_AF7  Beta_AF7  \\\n",
       "0      2022-07-05 14:03:30.972   0.787475   0.355094   0.662357  1.185562   \n",
       "1      2022-07-05 14:03:30.973   0.787475   0.355094   0.662357  1.185562   \n",
       "2      2022-07-05 14:03:30.973   0.787475   0.355094   0.662357  1.185562   \n",
       "3      2022-07-05 14:03:30.974   0.787475   0.355094   0.662357  1.185562   \n",
       "4      2022-07-05 14:03:30.974   0.787475   0.355094   0.662357  1.185562   \n",
       "...                        ...        ...        ...        ...       ...   \n",
       "31286  2022-07-05 14:05:33.036   0.590314   0.417819   0.668900  0.957642   \n",
       "31287  2022-07-05 14:05:33.036   0.590314   0.417819   0.668900  0.957642   \n",
       "31288  2022-07-05 14:05:33.036   0.590314   0.417819   0.668900  0.957642   \n",
       "31289  2022-07-05 14:05:33.037   0.590314   0.417819   0.668900  0.957642   \n",
       "31290  2022-07-05 14:05:33.037   0.590314   0.417819   0.668900  0.957642   \n",
       "\n",
       "       Gamma_AF7  stimulus  \n",
       "0       0.850897         0  \n",
       "1       0.850897         0  \n",
       "2       0.850897         0  \n",
       "3       0.850897         0  \n",
       "4       0.850897         0  \n",
       "...          ...       ...  \n",
       "31286   0.858311         0  \n",
       "31287   0.858311         0  \n",
       "31288   0.858311         0  \n",
       "31289   0.858311         0  \n",
       "31290   0.858311         0  \n",
       "\n",
       "[31272 rows x 7 columns]"
      ]
     },
     "execution_count": 41,
     "metadata": {},
     "output_type": "execute_result"
    }
   ],
   "source": [
    "data"
   ]
  },
  {
   "cell_type": "code",
   "execution_count": 43,
   "id": "6bd93ab5",
   "metadata": {},
   "outputs": [
    {
     "data": {
      "text/plain": [
       "str"
      ]
     },
     "execution_count": 43,
     "metadata": {},
     "output_type": "execute_result"
    }
   ],
   "source": [
    "type(data['TimeStamp'][0])"
   ]
  },
  {
   "cell_type": "code",
   "execution_count": 61,
   "id": "dfa8bd9a",
   "metadata": {
    "scrolled": true
   },
   "outputs": [
    {
     "ename": "ValueError",
     "evalue": "time data '2022-07-05 14:03:30.972' does not match format '%Y-%m-%d %H:%M:%S%f[:-3]'",
     "output_type": "error",
     "traceback": [
      "\u001b[1;31m---------------------------------------------------------------------------\u001b[0m",
      "\u001b[1;31mValueError\u001b[0m                                Traceback (most recent call last)",
      "\u001b[1;32m~\\AppData\\Local\\Temp/ipykernel_12748/3292125752.py\u001b[0m in \u001b[0;36m<module>\u001b[1;34m\u001b[0m\n\u001b[1;32m----> 1\u001b[1;33m \u001b[0mtime_1\u001b[0m \u001b[1;33m=\u001b[0m \u001b[0mdatetime\u001b[0m\u001b[1;33m.\u001b[0m\u001b[0mstrptime\u001b[0m\u001b[1;33m(\u001b[0m\u001b[0mdata\u001b[0m\u001b[1;33m[\u001b[0m\u001b[1;34m'TimeStamp'\u001b[0m\u001b[1;33m]\u001b[0m\u001b[1;33m[\u001b[0m\u001b[1;36m0\u001b[0m\u001b[1;33m]\u001b[0m\u001b[1;33m,\u001b[0m\u001b[1;34m\"%Y-%m-%d %H:%M:%S%f[:-3]\"\u001b[0m\u001b[1;33m)\u001b[0m\u001b[1;33m\u001b[0m\u001b[1;33m\u001b[0m\u001b[0m\n\u001b[0m",
      "\u001b[1;32m~\\anaconda3\\lib\\_strptime.py\u001b[0m in \u001b[0;36m_strptime_datetime\u001b[1;34m(cls, data_string, format)\u001b[0m\n\u001b[0;32m    566\u001b[0m     \"\"\"Return a class cls instance based on the input string and the\n\u001b[0;32m    567\u001b[0m     format string.\"\"\"\n\u001b[1;32m--> 568\u001b[1;33m     \u001b[0mtt\u001b[0m\u001b[1;33m,\u001b[0m \u001b[0mfraction\u001b[0m\u001b[1;33m,\u001b[0m \u001b[0mgmtoff_fraction\u001b[0m \u001b[1;33m=\u001b[0m \u001b[0m_strptime\u001b[0m\u001b[1;33m(\u001b[0m\u001b[0mdata_string\u001b[0m\u001b[1;33m,\u001b[0m \u001b[0mformat\u001b[0m\u001b[1;33m)\u001b[0m\u001b[1;33m\u001b[0m\u001b[1;33m\u001b[0m\u001b[0m\n\u001b[0m\u001b[0;32m    569\u001b[0m     \u001b[0mtzname\u001b[0m\u001b[1;33m,\u001b[0m \u001b[0mgmtoff\u001b[0m \u001b[1;33m=\u001b[0m \u001b[0mtt\u001b[0m\u001b[1;33m[\u001b[0m\u001b[1;33m-\u001b[0m\u001b[1;36m2\u001b[0m\u001b[1;33m:\u001b[0m\u001b[1;33m]\u001b[0m\u001b[1;33m\u001b[0m\u001b[1;33m\u001b[0m\u001b[0m\n\u001b[0;32m    570\u001b[0m     \u001b[0margs\u001b[0m \u001b[1;33m=\u001b[0m \u001b[0mtt\u001b[0m\u001b[1;33m[\u001b[0m\u001b[1;33m:\u001b[0m\u001b[1;36m6\u001b[0m\u001b[1;33m]\u001b[0m \u001b[1;33m+\u001b[0m \u001b[1;33m(\u001b[0m\u001b[0mfraction\u001b[0m\u001b[1;33m,\u001b[0m\u001b[1;33m)\u001b[0m\u001b[1;33m\u001b[0m\u001b[1;33m\u001b[0m\u001b[0m\n",
      "\u001b[1;32m~\\anaconda3\\lib\\_strptime.py\u001b[0m in \u001b[0;36m_strptime\u001b[1;34m(data_string, format)\u001b[0m\n\u001b[0;32m    347\u001b[0m     \u001b[0mfound\u001b[0m \u001b[1;33m=\u001b[0m \u001b[0mformat_regex\u001b[0m\u001b[1;33m.\u001b[0m\u001b[0mmatch\u001b[0m\u001b[1;33m(\u001b[0m\u001b[0mdata_string\u001b[0m\u001b[1;33m)\u001b[0m\u001b[1;33m\u001b[0m\u001b[1;33m\u001b[0m\u001b[0m\n\u001b[0;32m    348\u001b[0m     \u001b[1;32mif\u001b[0m \u001b[1;32mnot\u001b[0m \u001b[0mfound\u001b[0m\u001b[1;33m:\u001b[0m\u001b[1;33m\u001b[0m\u001b[1;33m\u001b[0m\u001b[0m\n\u001b[1;32m--> 349\u001b[1;33m         raise ValueError(\"time data %r does not match format %r\" %\n\u001b[0m\u001b[0;32m    350\u001b[0m                          (data_string, format))\n\u001b[0;32m    351\u001b[0m     \u001b[1;32mif\u001b[0m \u001b[0mlen\u001b[0m\u001b[1;33m(\u001b[0m\u001b[0mdata_string\u001b[0m\u001b[1;33m)\u001b[0m \u001b[1;33m!=\u001b[0m \u001b[0mfound\u001b[0m\u001b[1;33m.\u001b[0m\u001b[0mend\u001b[0m\u001b[1;33m(\u001b[0m\u001b[1;33m)\u001b[0m\u001b[1;33m:\u001b[0m\u001b[1;33m\u001b[0m\u001b[1;33m\u001b[0m\u001b[0m\n",
      "\u001b[1;31mValueError\u001b[0m: time data '2022-07-05 14:03:30.972' does not match format '%Y-%m-%d %H:%M:%S%f[:-3]'"
     ]
    }
   ],
   "source": [
    "time_1 = datetime.strptime(data['TimeStamp'][0],\"%Y-%m-%d %H:%M:%S%f[:-3]\")"
   ]
  },
  {
   "cell_type": "code",
   "execution_count": null,
   "id": "e671fe2e",
   "metadata": {},
   "outputs": [],
   "source": []
  }
 ],
 "metadata": {
  "kernelspec": {
   "display_name": "Python 3 (ipykernel)",
   "language": "python",
   "name": "python3"
  },
  "language_info": {
   "codemirror_mode": {
    "name": "ipython",
    "version": 3
   },
   "file_extension": ".py",
   "mimetype": "text/x-python",
   "name": "python",
   "nbconvert_exporter": "python",
   "pygments_lexer": "ipython3",
   "version": "3.9.7"
  }
 },
 "nbformat": 4,
 "nbformat_minor": 5
}
